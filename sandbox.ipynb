{
 "cells": [
  {
   "cell_type": "code",
   "execution_count": null,
   "metadata": {},
   "outputs": [],
   "source": [
    "import datetime\n",
    "import pandas as pd\n",
    "from dash import helpers\n",
    "\n",
    "\n",
    "df = helpers.read('data/prices.txt', 1000)\n",
    "df.time = df.time.apply(pd.to_datetime)\n",
    "\n",
    "subset = (\n",
    "    df\n",
    "    .loc[lambda x: x.time.dt.date == datetime.date(2021, 1, 5)]\n",
    "    .loc[lambda x: x.time.dt.time < datetime.time(17)]\n",
    "    .set_index('time')\n",
    "    #.plot()\n",
    ");"
   ]
  },
  {
   "cell_type": "code",
   "execution_count": null,
   "metadata": {},
   "outputs": [],
   "source": []
  }
 ],
 "metadata": {
  "kernelspec": {
   "display_name": "Python 3",
   "language": "python",
   "name": "python3"
  },
  "language_info": {
   "codemirror_mode": {
    "name": "ipython",
    "version": 3
   },
   "file_extension": ".py",
   "mimetype": "text/x-python",
   "name": "python",
   "nbconvert_exporter": "python",
   "pygments_lexer": "ipython3",
   "version": "3.9.1"
  }
 },
 "nbformat": 4,
 "nbformat_minor": 4
}
