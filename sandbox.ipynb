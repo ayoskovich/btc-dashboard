{
 "cells": [
  {
   "cell_type": "code",
   "execution_count": null,
   "metadata": {},
   "outputs": [],
   "source": [
    "import datetime\n",
    "import pandas as pd\n",
    "import matplotlib.pyplot as plt\n",
    "import seaborn as sns\n",
    "\n",
    "from dash import helpers\n",
    "\n",
    "\n",
    "df = helpers.read('data/prices.txt', 1000)\n",
    "df.time = df.time.apply(pd.to_datetime)\n",
    "\n",
    "subset = (\n",
    "    df\n",
    "    .loc[lambda x: x.time.dt.date == datetime.date(2021, 1, 5)]\n",
    "    .loc[lambda x: x.time.dt.time < datetime.time(17)]\n",
    ");\n",
    "\n",
    "\n",
    "fig, ax = plt.subplots(1,1, figsize=(15,5))\n",
    "\n",
    "sns.lineplot(x='time', y='price', data=subset, ax=ax);\n",
    "\n",
    "AVGS = [25, 50, 100]\n",
    "for x in AVGS:\n",
    "    subset[f'{x}'] = subset.price.rolling(x).mean();\n",
    "    sns.lineplot(x='time', y=f'{x}', data=subset, label=x, ax=ax)\n"
   ]
  },
  {
   "cell_type": "code",
   "execution_count": null,
   "metadata": {},
   "outputs": [],
   "source": [
    "sns.lineplot?"
   ]
  },
  {
   "cell_type": "code",
   "execution_count": null,
   "metadata": {},
   "outputs": [],
   "source": []
  }
 ],
 "metadata": {
  "kernelspec": {
   "display_name": "Python 3",
   "language": "python",
   "name": "python3"
  },
  "language_info": {
   "codemirror_mode": {
    "name": "ipython",
    "version": 3
   },
   "file_extension": ".py",
   "mimetype": "text/x-python",
   "name": "python",
   "nbconvert_exporter": "python",
   "pygments_lexer": "ipython3",
   "version": "3.9.1"
  }
 },
 "nbformat": 4,
 "nbformat_minor": 4
}
