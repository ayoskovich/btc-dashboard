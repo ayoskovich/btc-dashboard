{
 "cells": [
  {
   "cell_type": "code",
   "execution_count": null,
   "metadata": {},
   "outputs": [],
   "source": [
    "import datetime\n",
    "import pandas as pd\n",
    "import matplotlib.pyplot as plt\n",
    "import seaborn as sns\n",
    "\n",
    "from dash import helpers\n",
    "\n",
    "df = helpers.read('data/prices.txt', 1000)\n",
    "df.time = df.time.apply(pd.to_datetime)\n",
    "\n",
    "subset = (\n",
    "    df\n",
    "    .loc[lambda x: x.time.dt.date == datetime.date(2021, 1, 5)]\n",
    "    #.loc[lambda x: x.time.dt.time < datetime.time(17)]\n",
    "    .loc[lambda x: x.time.dt.time < datetime.time(16, 35)]\n",
    ");\n",
    "\n",
    "print(subset.shape)\n",
    "print(subset.isna().sum())\n",
    "fig, ax = plt.subplots(1,1, figsize=(15,5))\n",
    "sns.lineplot(x='time', y='price', data=subset, ax=ax);"
   ]
  },
  {
   "cell_type": "code",
   "execution_count": null,
   "metadata": {},
   "outputs": [],
   "source": [
    "fig, ax = plt.subplots(1,1, figsize=(15,5))\n",
    "\n",
    "sns.lineplot(x='time', y='price', data=subset, ax=ax).set(title='Rolling Average');\n",
    "\n",
    "AVGS = [25, 50, 100]\n",
    "for x in AVGS:\n",
    "    subset[f'{x}'] = subset.price.rolling(x).mean();\n",
    "    sns.lineplot(x='time', y=f'{x}', data=subset, label=x, ax=ax)"
   ]
  },
  {
   "cell_type": "code",
   "execution_count": null,
   "metadata": {
    "scrolled": true
   },
   "outputs": [],
   "source": [
    "fig, ax = plt.subplots(1,1, figsize=(15,5))\n",
    "\n",
    "sns.lineplot(x='time', y='price', data=subset, ax=ax, linewidth=3).set(title=\"Rolling Median\");\n",
    "\n",
    "AVGS = [25, 50, 100]\n",
    "for x in AVGS:\n",
    "    subset[f'{x}'] = subset.price.rolling(x).median();\n",
    "    sns.lineplot(x='time', y=f'{x}', data=subset, label=x, ax=ax)"
   ]
  },
  {
   "cell_type": "code",
   "execution_count": null,
   "metadata": {
    "scrolled": true
   },
   "outputs": [],
   "source": [
    "def is_normal(time):\n",
    "    return time < pd.Timedelta(6, 's')\n",
    "\n",
    "#df[(df.time - df.time.shift(1)).apply(is_weird)]"
   ]
  },
  {
   "cell_type": "code",
   "execution_count": null,
   "metadata": {
    "scrolled": false
   },
   "outputs": [],
   "source": [
    "fig, ax1 = plt.subplots(1,1, figsize=(15,5))\n",
    "\n",
    "sns.lineplot(x='time', y='price', data=subset, ax=ax1, linewidth=3);\n",
    "\n",
    "ALPHAS = [.005, .1, .98]\n",
    "for x in ALPHAS:\n",
    "    print(f'A: {x}: Smoothing over {1 / (1-x)} days')\n",
    "    \n",
    "    subset[f'{x}'] = subset.price.ewm(alpha=x).mean();\n",
    "    ax1.set_title('Setting Alpha')\n",
    "    sns.lineplot(x='time', y=f'{x}', data=subset, label=x, ax=ax1)"
   ]
  }
 ],
 "metadata": {
  "kernelspec": {
   "display_name": "btc_env",
   "language": "python",
   "name": "btc_env"
  },
  "language_info": {
   "codemirror_mode": {
    "name": "ipython",
    "version": 3
   },
   "file_extension": ".py",
   "mimetype": "text/x-python",
   "name": "python",
   "nbconvert_exporter": "python",
   "pygments_lexer": "ipython3",
   "version": "3.9.1"
  }
 },
 "nbformat": 4,
 "nbformat_minor": 4
}
